{
 "cells": [
  {
   "cell_type": "markdown",
   "id": "fcc26d06",
   "metadata": {},
   "source": [
    "<p align=center> <img src='https://www.scdn.co/i/_global/open-graph-default.png' width='500'> </p>\n",
    "\n",
    "<h1 align='center'> Spotify </h1>\n",
    "<h2 align='center'> Data Analysis </h2>"
   ]
  },
  {
   "cell_type": "markdown",
   "id": "455366a0",
   "metadata": {},
   "source": [
    "<h3 align=left>\n",
    "    <br> - PHASE 1 --> Preparation </br>\n",
    "    <br> - PHASE 2 --> Exploratory Data Analysis - EDA </br>\n",
    "</h3>"
   ]
  },
  {
   "cell_type": "code",
   "execution_count": 2,
   "id": "dd4dbfd0",
   "metadata": {},
   "outputs": [
    {
     "name": "stdout",
     "output_type": "stream",
     "text": [
      "Libraries have been correctly imported!\n"
     ]
    }
   ],
   "source": [
    "import os\n",
    "import numpy as np\n",
    "import pandas as pd\n",
    "import matplotlib.pyplot as plt\n",
    "import seaborn as sns\n",
    "import plotly.express as px\n",
    "import requests\n",
    "from sklearn.preprocessing import MultiLabelBinarizer\n",
    "import re\n",
    "from wordcloud import WordCloud, STOPWORDS\n",
    "import locale\n",
    "#%matplotlib inline\n",
    "print(\"Libraries have been correctly imported!\")"
   ]
  },
  {
   "cell_type": "code",
   "execution_count": 3,
   "id": "a9f3476b",
   "metadata": {},
   "outputs": [
    {
     "name": "stdout",
     "output_type": "stream",
     "text": [
      "The dataset has been correctly imported!\n"
     ]
    }
   ],
   "source": [
    "#Nella scrittura del filepath ruotiamo sempre gli slash. Non dobbiamo mai avere backslash \\ ma solo slash /\n",
    "spotify_dataset='/Users/francescocrovella/Desktop/Spotify/spotify_dataset.csv'\n",
    "spotify_df=pd.read_csv(spotify_dataset,on_bad_lines='skip')\n",
    "\n",
    "print(\"The dataset has been correctly imported!\")"
   ]
  },
  {
   "cell_type": "code",
   "execution_count": 4,
   "id": "cd412e21",
   "metadata": {},
   "outputs": [
    {
     "data": {
      "text/html": [
       "<div>\n",
       "<style scoped>\n",
       "    .dataframe tbody tr th:only-of-type {\n",
       "        vertical-align: middle;\n",
       "    }\n",
       "\n",
       "    .dataframe tbody tr th {\n",
       "        vertical-align: top;\n",
       "    }\n",
       "\n",
       "    .dataframe thead th {\n",
       "        text-align: right;\n",
       "    }\n",
       "</style>\n",
       "<table border=\"1\" class=\"dataframe\">\n",
       "  <thead>\n",
       "    <tr style=\"text-align: right;\">\n",
       "      <th></th>\n",
       "      <th>user_id</th>\n",
       "      <th>\"artistname\"</th>\n",
       "      <th>\"trackname\"</th>\n",
       "      <th>\"playlistname\"</th>\n",
       "    </tr>\n",
       "  </thead>\n",
       "  <tbody>\n",
       "    <tr>\n",
       "      <th>0</th>\n",
       "      <td>9cc0cfd4d7d7885102480dd99e7a90d6</td>\n",
       "      <td>Elvis Costello</td>\n",
       "      <td>(The Angels Wanna Wear My) Red Shoes</td>\n",
       "      <td>HARD ROCK 2010</td>\n",
       "    </tr>\n",
       "    <tr>\n",
       "      <th>1</th>\n",
       "      <td>9cc0cfd4d7d7885102480dd99e7a90d6</td>\n",
       "      <td>Elvis Costello &amp; The Attractions</td>\n",
       "      <td>(What's So Funny 'Bout) Peace, Love And Unders...</td>\n",
       "      <td>HARD ROCK 2010</td>\n",
       "    </tr>\n",
       "  </tbody>\n",
       "</table>\n",
       "</div>"
      ],
      "text/plain": [
       "                            user_id                      \"artistname\"  \\\n",
       "0  9cc0cfd4d7d7885102480dd99e7a90d6                    Elvis Costello   \n",
       "1  9cc0cfd4d7d7885102480dd99e7a90d6  Elvis Costello & The Attractions   \n",
       "\n",
       "                                         \"trackname\"  \"playlistname\"  \n",
       "0               (The Angels Wanna Wear My) Red Shoes  HARD ROCK 2010  \n",
       "1  (What's So Funny 'Bout) Peace, Love And Unders...  HARD ROCK 2010  "
      ]
     },
     "execution_count": 4,
     "metadata": {},
     "output_type": "execute_result"
    }
   ],
   "source": [
    "spotify_df.head(2)"
   ]
  },
  {
   "cell_type": "code",
   "execution_count": 5,
   "id": "335befc3",
   "metadata": {},
   "outputs": [
    {
     "data": {
      "text/plain": [
       "(12891680, 4)"
      ]
     },
     "execution_count": 5,
     "metadata": {},
     "output_type": "execute_result"
    }
   ],
   "source": [
    "spotify_df.shape"
   ]
  },
  {
   "cell_type": "code",
   "execution_count": 6,
   "id": "3b093c73",
   "metadata": {},
   "outputs": [
    {
     "data": {
      "text/plain": [
       "user_id            object\n",
       " \"artistname\"      object\n",
       " \"trackname\"       object\n",
       " \"playlistname\"    object\n",
       "dtype: object"
      ]
     },
     "execution_count": 6,
     "metadata": {},
     "output_type": "execute_result"
    }
   ],
   "source": [
    "spotify_df.dtypes"
   ]
  },
  {
   "cell_type": "markdown",
   "id": "81f47267",
   "metadata": {},
   "source": [
    "<h1 align=center> PHASE 1/2 </h3>\n",
    "<h1 align=center> DATA CLEANING & PREPROCESSING </h3>"
   ]
  },
  {
   "cell_type": "markdown",
   "id": "32f7a6c0",
   "metadata": {},
   "source": [
    "These are the most important basic information methods for a dataset cleaning + preprocessing:\n",
    "\n",
    "- df.shape ---> number of rows and columns\n",
    "- df.columns ---> columns array\n",
    "- df.count() ---> number of records\n",
    "- df.info() ---> different file info, including dtypes\n",
    "- df.drop_duplicates()\n",
    "- df.describe()\n",
    "- df.nunique()\n",
    "<br></br>\n",
    "Unnecessary columns handling:\n",
    "- df.drop([\"columnName\"],axis=1,inplace=True)\n",
    "<br></br>\n",
    "Missing values handling:\n",
    "- df.isna().sum(axis=0) --- calcolo delle celle nulle per ogni colonna\n",
    "<br></br>"
   ]
  },
  {
   "cell_type": "code",
   "execution_count": 7,
   "id": "8a100f95",
   "metadata": {},
   "outputs": [
    {
     "data": {
      "text/plain": [
       "Index(['user_id', ' \"artistname\"', ' \"trackname\"', ' \"playlistname\"'], dtype='object')"
      ]
     },
     "execution_count": 7,
     "metadata": {},
     "output_type": "execute_result"
    }
   ],
   "source": [
    "spotify_df.columns"
   ]
  },
  {
   "cell_type": "markdown",
   "id": "eae1c0d3",
   "metadata": {},
   "source": [
    "We habve to clean the columns name since there are no significant \"\""
   ]
  },
  {
   "cell_type": "code",
   "execution_count": 8,
   "id": "d4ae24ff",
   "metadata": {},
   "outputs": [],
   "source": [
    "spotify_df.columns=spotify_df.columns.str.replace(' ','')\n",
    "spotify_df.columns=spotify_df.columns.str.replace(' ','')\n",
    "spotify_df.columns=spotify_df.columns.str.replace(' ','')\n",
    "\n",
    "spotify_df.columns=spotify_df.columns.str.replace('\"artistname\"','artistname')\n",
    "spotify_df.columns=spotify_df.columns.str.replace('\"trackname\"','trackname')\n",
    "spotify_df.columns=spotify_df.columns.str.replace('\"playlistname\"','playlistname')"
   ]
  },
  {
   "cell_type": "code",
   "execution_count": 9,
   "id": "4abd7c75",
   "metadata": {},
   "outputs": [
    {
     "data": {
      "text/plain": [
       "Index(['user_id', 'artistname', 'trackname', 'playlistname'], dtype='object')"
      ]
     },
     "execution_count": 9,
     "metadata": {},
     "output_type": "execute_result"
    }
   ],
   "source": [
    "spotify_df.columns"
   ]
  },
  {
   "cell_type": "code",
   "execution_count": 10,
   "id": "d6bd9cd8",
   "metadata": {},
   "outputs": [
    {
     "data": {
      "text/plain": [
       "user_id         12891680\n",
       "artistname      12858112\n",
       "trackname       12891595\n",
       "playlistname    12890434\n",
       "dtype: int64"
      ]
     },
     "execution_count": 10,
     "metadata": {},
     "output_type": "execute_result"
    }
   ],
   "source": [
    "spotify_df.count()"
   ]
  },
  {
   "cell_type": "markdown",
   "id": "476c11bd",
   "metadata": {},
   "source": [
    "Since there are different counts, this represents the presence of \"NaN\" values. This is a problem to be resolved."
   ]
  },
  {
   "cell_type": "code",
   "execution_count": 11,
   "id": "23d49224",
   "metadata": {},
   "outputs": [
    {
     "name": "stdout",
     "output_type": "stream",
     "text": [
      "<class 'pandas.core.frame.DataFrame'>\n",
      "RangeIndex: 12891680 entries, 0 to 12891679\n",
      "Data columns (total 4 columns):\n",
      " #   Column        Dtype \n",
      "---  ------        ----- \n",
      " 0   user_id       object\n",
      " 1   artistname    object\n",
      " 2   trackname     object\n",
      " 3   playlistname  object\n",
      "dtypes: object(4)\n",
      "memory usage: 393.4+ MB\n"
     ]
    }
   ],
   "source": [
    "spotify_df.info()"
   ]
  },
  {
   "cell_type": "code",
   "execution_count": 12,
   "id": "2106cb5c",
   "metadata": {},
   "outputs": [
    {
     "name": "stdout",
     "output_type": "stream",
     "text": [
      "duplicates dropped\n"
     ]
    }
   ],
   "source": [
    "#Drop of duplicates\n",
    "\n",
    "spotify_df.drop_duplicates()\n",
    "print('duplicates dropped')"
   ]
  },
  {
   "cell_type": "code",
   "execution_count": 13,
   "id": "1497ef95",
   "metadata": {},
   "outputs": [
    {
     "data": {
      "text/plain": [
       "user_id           15918\n",
       "artistname       289821\n",
       "trackname       2032044\n",
       "playlistname     157504\n",
       "dtype: int64"
      ]
     },
     "execution_count": 13,
     "metadata": {},
     "output_type": "execute_result"
    }
   ],
   "source": [
    "#We can use df.nunique() method in order to study the df structure and data granularity\n",
    "spotify_df.nunique()"
   ]
  },
  {
   "cell_type": "markdown",
   "id": "bfdb5352",
   "metadata": {},
   "source": [
    "This is the result of df.nunique():\n",
    "\n",
    "- the dataset is structured on 'user_id'\n",
    "- the entity relation model is the following: user_id - other columns --> 1-n"
   ]
  },
  {
   "cell_type": "code",
   "execution_count": 14,
   "id": "64926aae",
   "metadata": {},
   "outputs": [
    {
     "data": {
      "text/html": [
       "<div>\n",
       "<style scoped>\n",
       "    .dataframe tbody tr th:only-of-type {\n",
       "        vertical-align: middle;\n",
       "    }\n",
       "\n",
       "    .dataframe tbody tr th {\n",
       "        vertical-align: top;\n",
       "    }\n",
       "\n",
       "    .dataframe thead th {\n",
       "        text-align: right;\n",
       "    }\n",
       "</style>\n",
       "<table border=\"1\" class=\"dataframe\">\n",
       "  <thead>\n",
       "    <tr style=\"text-align: right;\">\n",
       "      <th></th>\n",
       "      <th>user_id</th>\n",
       "      <th>artistname</th>\n",
       "      <th>trackname</th>\n",
       "      <th>playlistname</th>\n",
       "    </tr>\n",
       "  </thead>\n",
       "  <tbody>\n",
       "    <tr>\n",
       "      <th>count</th>\n",
       "      <td>12891680</td>\n",
       "      <td>12858112</td>\n",
       "      <td>12891595</td>\n",
       "      <td>12890434</td>\n",
       "    </tr>\n",
       "    <tr>\n",
       "      <th>unique</th>\n",
       "      <td>15918</td>\n",
       "      <td>289821</td>\n",
       "      <td>2032044</td>\n",
       "      <td>157504</td>\n",
       "    </tr>\n",
       "    <tr>\n",
       "      <th>top</th>\n",
       "      <td>4398de6902abde3351347b048fcdc287</td>\n",
       "      <td>Daft Punk</td>\n",
       "      <td>Intro</td>\n",
       "      <td>Starred</td>\n",
       "    </tr>\n",
       "    <tr>\n",
       "      <th>freq</th>\n",
       "      <td>295275</td>\n",
       "      <td>36086</td>\n",
       "      <td>6676</td>\n",
       "      <td>1337085</td>\n",
       "    </tr>\n",
       "  </tbody>\n",
       "</table>\n",
       "</div>"
      ],
      "text/plain": [
       "                                 user_id artistname trackname playlistname\n",
       "count                           12891680   12858112  12891595     12890434\n",
       "unique                             15918     289821   2032044       157504\n",
       "top     4398de6902abde3351347b048fcdc287  Daft Punk     Intro      Starred\n",
       "freq                              295275      36086      6676      1337085"
      ]
     },
     "execution_count": 14,
     "metadata": {},
     "output_type": "execute_result"
    }
   ],
   "source": [
    "spotify_df.describe()"
   ]
  },
  {
   "cell_type": "code",
   "execution_count": 15,
   "id": "5eefee14",
   "metadata": {},
   "outputs": [
    {
     "data": {
      "text/plain": [
       "user_id             0\n",
       "artistname      33568\n",
       "trackname          85\n",
       "playlistname     1246\n",
       "dtype: int64"
      ]
     },
     "execution_count": 15,
     "metadata": {},
     "output_type": "execute_result"
    }
   ],
   "source": [
    "#missing values handling --_> df.isna()\n",
    "spotify_df.isna().sum(axis=0)"
   ]
  },
  {
   "cell_type": "markdown",
   "id": "dd373857",
   "metadata": {},
   "source": [
    "### since the user_id column has no missing values, we can't drop any rows but we have toi sostitute the missing values as following:\n",
    "\n",
    "- column artistname   --------> fill with \"Unknown\"\n",
    "- column trackname    --------> fill with \"Unknown\"\n",
    "- column playlistname --------> fill with \"Unknown\""
   ]
  },
  {
   "cell_type": "code",
   "execution_count": 16,
   "id": "445f1960",
   "metadata": {},
   "outputs": [
    {
     "data": {
      "text/plain": [
       "user_id         0\n",
       "artistname      0\n",
       "trackname       0\n",
       "playlistname    0\n",
       "dtype: int64"
      ]
     },
     "execution_count": 16,
     "metadata": {},
     "output_type": "execute_result"
    }
   ],
   "source": [
    "empty_columns_tobefilled_unknown=['artistname','trackname','playlistname']\n",
    "\n",
    "for i in spotify_df[empty_columns_tobefilled_unknown]:\n",
    "    spotify_df[i]= spotify_df[i].fillna('Unknown')\n",
    "\n",
    "#missing values re-check. We need only 0 values\n",
    "spotify_df.isna().sum(axis=0)"
   ]
  },
  {
   "cell_type": "markdown",
   "id": "2d785661",
   "metadata": {},
   "source": [
    "<h1 align=center> PHASE 2/2 </h3>\n",
    "<h1 align=center> EXPLORATORY DATA ANALYSIS - EDA </h3>"
   ]
  },
  {
   "cell_type": "markdown",
   "id": "35e047e7",
   "metadata": {},
   "source": [
    "- df['columns'].value_counts()\n",
    "<br></br>\n",
    "- COUNTPLOT --> non numerical bar chart\n",
    "- BARPLOT --> bar chart\n",
    "- HEATMAP --> colored correlation matrix\n",
    "- HISTPLOT --> histogram for sdistributions\n",
    "- WORDCLOUD --> a word with the most common words of the dataset"
   ]
  },
  {
   "cell_type": "markdown",
   "id": "3097e813",
   "metadata": {},
   "source": [
    "<h1 align='center'> <b> SPOTIFY TOP SONGS ANALYSIS </b> </h1>"
   ]
  },
  {
   "cell_type": "markdown",
   "id": "4e1e2f4a",
   "metadata": {},
   "source": [
    "## TOP SONGS AND ARTISTS"
   ]
  },
  {
   "cell_type": "code",
   "execution_count": 38,
   "id": "b8eab82e",
   "metadata": {},
   "outputs": [],
   "source": [
    "spotify_df['trackname - artistname']=spotify_df['trackname']+' - '+spotify_df['artistname']"
   ]
  },
  {
   "cell_type": "code",
   "execution_count": 39,
   "id": "aec94f62",
   "metadata": {},
   "outputs": [
    {
     "data": {
      "image/png": "[encoded data removed]",
      "text/plain": [
       "<Figure size 720x360 with 1 Axes>"
      ]
     },
     "metadata": {},
     "output_type": "display_data"
    }
   ],
   "source": [
    "plt.figure(figsize=(10,5))\n",
    "trackname=spotify_df['top songs'].value_counts()[:10]\n",
    "sns.barplot(x=trackname,y=trackname.index)\n",
    "plt.suptitle('Top 10 Spotify songs')\n",
    "plt.xlabel('Streaming')\n",
    "plt.ylabel('Songs')\n",
    "plt.show()"
   ]
  },
  {
   "cell_type": "code",
   "execution_count": 40,
   "id": "4faa00eb",
   "metadata": {},
   "outputs": [
    {
     "data": {
      "text/html": [
       "<div>\n",
       "<style scoped>\n",
       "    .dataframe tbody tr th:only-of-type {\n",
       "        vertical-align: middle;\n",
       "    }\n",
       "\n",
       "    .dataframe tbody tr th {\n",
       "        vertical-align: top;\n",
       "    }\n",
       "\n",
       "    .dataframe thead th {\n",
       "        text-align: right;\n",
       "    }\n",
       "</style>\n",
       "<table border=\"1\" class=\"dataframe\">\n",
       "  <thead>\n",
       "    <tr style=\"text-align: right;\">\n",
       "      <th></th>\n",
       "      <th>user_id</th>\n",
       "      <th>artistname</th>\n",
       "      <th>trackname</th>\n",
       "      <th>playlistname</th>\n",
       "      <th>top songs</th>\n",
       "      <th>trackname - artistname</th>\n",
       "    </tr>\n",
       "  </thead>\n",
       "  <tbody>\n",
       "    <tr>\n",
       "      <th>0</th>\n",
       "      <td>9cc0cfd4d7d7885102480dd99e7a90d6</td>\n",
       "      <td>Elvis Costello</td>\n",
       "      <td>(The Angels Wanna Wear My) Red Shoes</td>\n",
       "      <td>HARD ROCK 2010</td>\n",
       "      <td>(The Angels Wanna Wear My) Red Shoes - Elvis C...</td>\n",
       "      <td>(The Angels Wanna Wear My) Red Shoes - Elvis C...</td>\n",
       "    </tr>\n",
       "    <tr>\n",
       "      <th>1</th>\n",
       "      <td>9cc0cfd4d7d7885102480dd99e7a90d6</td>\n",
       "      <td>Elvis Costello &amp; The Attractions</td>\n",
       "      <td>(What's So Funny 'Bout) Peace, Love And Unders...</td>\n",
       "      <td>HARD ROCK 2010</td>\n",
       "      <td>(What's So Funny 'Bout) Peace, Love And Unders...</td>\n",
       "      <td>(What's So Funny 'Bout) Peace, Love And Unders...</td>\n",
       "    </tr>\n",
       "    <tr>\n",
       "      <th>2</th>\n",
       "      <td>9cc0cfd4d7d7885102480dd99e7a90d6</td>\n",
       "      <td>Tiffany Page</td>\n",
       "      <td>7 Years Too Late</td>\n",
       "      <td>HARD ROCK 2010</td>\n",
       "      <td>7 Years Too Late - Tiffany Page</td>\n",
       "      <td>7 Years Too Late - Tiffany Page</td>\n",
       "    </tr>\n",
       "    <tr>\n",
       "      <th>3</th>\n",
       "      <td>9cc0cfd4d7d7885102480dd99e7a90d6</td>\n",
       "      <td>Elvis Costello &amp; The Attractions</td>\n",
       "      <td>Accidents Will Happen</td>\n",
       "      <td>HARD ROCK 2010</td>\n",
       "      <td>Accidents Will Happen - Elvis Costello &amp; The A...</td>\n",
       "      <td>Accidents Will Happen - Elvis Costello &amp; The A...</td>\n",
       "    </tr>\n",
       "    <tr>\n",
       "      <th>4</th>\n",
       "      <td>9cc0cfd4d7d7885102480dd99e7a90d6</td>\n",
       "      <td>Elvis Costello</td>\n",
       "      <td>Alison</td>\n",
       "      <td>HARD ROCK 2010</td>\n",
       "      <td>Alison - Elvis Costello</td>\n",
       "      <td>Alison - Elvis Costello</td>\n",
       "    </tr>\n",
       "  </tbody>\n",
       "</table>\n",
       "</div>"
      ],
      "text/plain": [
       "                            user_id                        artistname  \\\n",
       "0  9cc0cfd4d7d7885102480dd99e7a90d6                    Elvis Costello   \n",
       "1  9cc0cfd4d7d7885102480dd99e7a90d6  Elvis Costello & The Attractions   \n",
       "2  9cc0cfd4d7d7885102480dd99e7a90d6                      Tiffany Page   \n",
       "3  9cc0cfd4d7d7885102480dd99e7a90d6  Elvis Costello & The Attractions   \n",
       "4  9cc0cfd4d7d7885102480dd99e7a90d6                    Elvis Costello   \n",
       "\n",
       "                                           trackname    playlistname  \\\n",
       "0               (The Angels Wanna Wear My) Red Shoes  HARD ROCK 2010   \n",
       "1  (What's So Funny 'Bout) Peace, Love And Unders...  HARD ROCK 2010   \n",
       "2                                   7 Years Too Late  HARD ROCK 2010   \n",
       "3                              Accidents Will Happen  HARD ROCK 2010   \n",
       "4                                             Alison  HARD ROCK 2010   \n",
       "\n",
       "                                           top songs  \\\n",
       "0  (The Angels Wanna Wear My) Red Shoes - Elvis C...   \n",
       "1  (What's So Funny 'Bout) Peace, Love And Unders...   \n",
       "2                    7 Years Too Late - Tiffany Page   \n",
       "3  Accidents Will Happen - Elvis Costello & The A...   \n",
       "4                            Alison - Elvis Costello   \n",
       "\n",
       "                              trackname - artistname  \n",
       "0  (The Angels Wanna Wear My) Red Shoes - Elvis C...  \n",
       "1  (What's So Funny 'Bout) Peace, Love And Unders...  \n",
       "2                    7 Years Too Late - Tiffany Page  \n",
       "3  Accidents Will Happen - Elvis Costello & The A...  \n",
       "4                            Alison - Elvis Costello  "
      ]
     },
     "execution_count": 40,
     "metadata": {},
     "output_type": "execute_result"
    }
   ],
   "source": [
    "artist_df=spotify_df[spotify_df['artistname']!='Unknown']\n",
    "artist_df.head()"
   ]
  },
  {
   "cell_type": "code",
   "execution_count": 41,
   "id": "3a56918b",
   "metadata": {},
   "outputs": [
    {
     "data": {
      "image/png": "[encoded data removed]",
      "text/plain": [
       "<Figure size 720x360 with 1 Axes>"
      ]
     },
     "metadata": {},
     "output_type": "display_data"
    }
   ],
   "source": [
    "plt.figure(figsize=(10,5))\n",
    "artistname=artist_df['artistname'].value_counts()[:10]\n",
    "sns.barplot(x=artistname,y=artistname.index)\n",
    "plt.suptitle('Top 10 Spotify artists')\n",
    "plt.xlabel('Streaming')\n",
    "plt.ylabel('Artist')\n",
    "plt.show()"
   ]
  },
  {
   "cell_type": "code",
   "execution_count": null,
   "id": "a35f9158",
   "metadata": {},
   "outputs": [],
   "source": []
  }
 ],
 "metadata": {
  "kernelspec": {
   "display_name": "Python 3 (ipykernel)",
   "language": "python",
   "name": "python3"
  },
  "language_info": {
   "codemirror_mode": {
    "name": "ipython",
    "version": 3
   },
   "file_extension": ".py",
   "mimetype": "text/x-python",
   "name": "python",
   "nbconvert_exporter": "python",
   "pygments_lexer": "ipython3",
   "version": "3.9.7"
  }
 },
 "nbformat": 4,
 "nbformat_minor": 5
}
